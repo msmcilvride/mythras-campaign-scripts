{
 "cells": [
  {
   "cell_type": "code",
   "execution_count": 1,
   "id": "636022dc",
   "metadata": {},
   "outputs": [],
   "source": [
    "# Math\n",
    "import random as rd\n",
    "\n",
    "# Analysis\n",
    "import pandas as pd"
   ]
  },
  {
   "cell_type": "code",
   "execution_count": 2,
   "id": "1b3c394a",
   "metadata": {},
   "outputs": [],
   "source": [
    "def d6(qty):\n",
    "    total = 0\n",
    "    \n",
    "    for die in range(qty):\n",
    "        total += rd.randint(1, 6)\n",
    "    \n",
    "    return total\n",
    "\n",
    "\n",
    "def fudge(qty):\n",
    "    total = 0\n",
    "    \n",
    "    for die in range(qty):\n",
    "        total += rd.randint(-1, 1)\n",
    "    \n",
    "    return total"
   ]
  },
  {
   "cell_type": "code",
   "execution_count": 3,
   "id": "9616b4ec",
   "metadata": {},
   "outputs": [],
   "source": [
    "def roll_characters(qty):\n",
    "    data = {\n",
    "        'STR': [],\n",
    "        'CON': [],\n",
    "        'SIZ': [],\n",
    "        'DEX': [],\n",
    "        'INT': [],\n",
    "        'POW': [],\n",
    "        'CHA': []\n",
    "    }\n",
    "\n",
    "    def roll_character():\n",
    "        data['STR'].append(d6(3))\n",
    "        data['CON'].append(d6(3))\n",
    "        data['SIZ'].append(d6(2)+6)\n",
    "        data['DEX'].append(d6(3))\n",
    "        data['INT'].append(d6(2)+6)\n",
    "        data['POW'].append(d6(3))\n",
    "        data['CHA'].append(d6(3))\n",
    "\n",
    "        return\n",
    "    \n",
    "    for character in range(qty):\n",
    "        roll_character()\n",
    "        \n",
    "    return data"
   ]
  },
  {
   "cell_type": "code",
   "execution_count": 4,
   "id": "9e51fed4",
   "metadata": {},
   "outputs": [],
   "source": [
    "results = roll_characters(5)"
   ]
  },
  {
   "cell_type": "code",
   "execution_count": 5,
   "id": "5f1ec542",
   "metadata": {},
   "outputs": [],
   "source": [
    "df = pd.DataFrame(data=results)"
   ]
  },
  {
   "cell_type": "code",
   "execution_count": 6,
   "id": "76c0bbb5",
   "metadata": {},
   "outputs": [
    {
     "data": {
      "text/html": [
       "<div>\n",
       "<style scoped>\n",
       "    .dataframe tbody tr th:only-of-type {\n",
       "        vertical-align: middle;\n",
       "    }\n",
       "\n",
       "    .dataframe tbody tr th {\n",
       "        vertical-align: top;\n",
       "    }\n",
       "\n",
       "    .dataframe thead th {\n",
       "        text-align: right;\n",
       "    }\n",
       "</style>\n",
       "<table border=\"1\" class=\"dataframe\">\n",
       "  <thead>\n",
       "    <tr style=\"text-align: right;\">\n",
       "      <th></th>\n",
       "      <th>STR</th>\n",
       "      <th>CON</th>\n",
       "      <th>SIZ</th>\n",
       "      <th>DEX</th>\n",
       "      <th>INT</th>\n",
       "      <th>POW</th>\n",
       "      <th>CHA</th>\n",
       "    </tr>\n",
       "  </thead>\n",
       "  <tbody>\n",
       "    <tr>\n",
       "      <th>0</th>\n",
       "      <td>14</td>\n",
       "      <td>13</td>\n",
       "      <td>12</td>\n",
       "      <td>7</td>\n",
       "      <td>17</td>\n",
       "      <td>12</td>\n",
       "      <td>10</td>\n",
       "    </tr>\n",
       "    <tr>\n",
       "      <th>1</th>\n",
       "      <td>7</td>\n",
       "      <td>7</td>\n",
       "      <td>18</td>\n",
       "      <td>11</td>\n",
       "      <td>12</td>\n",
       "      <td>9</td>\n",
       "      <td>17</td>\n",
       "    </tr>\n",
       "    <tr>\n",
       "      <th>2</th>\n",
       "      <td>13</td>\n",
       "      <td>9</td>\n",
       "      <td>13</td>\n",
       "      <td>15</td>\n",
       "      <td>16</td>\n",
       "      <td>13</td>\n",
       "      <td>13</td>\n",
       "    </tr>\n",
       "    <tr>\n",
       "      <th>3</th>\n",
       "      <td>9</td>\n",
       "      <td>15</td>\n",
       "      <td>13</td>\n",
       "      <td>12</td>\n",
       "      <td>13</td>\n",
       "      <td>9</td>\n",
       "      <td>6</td>\n",
       "    </tr>\n",
       "    <tr>\n",
       "      <th>4</th>\n",
       "      <td>4</td>\n",
       "      <td>7</td>\n",
       "      <td>15</td>\n",
       "      <td>6</td>\n",
       "      <td>13</td>\n",
       "      <td>14</td>\n",
       "      <td>9</td>\n",
       "    </tr>\n",
       "  </tbody>\n",
       "</table>\n",
       "</div>"
      ],
      "text/plain": [
       "   STR  CON  SIZ  DEX  INT  POW  CHA\n",
       "0   14   13   12    7   17   12   10\n",
       "1    7    7   18   11   12    9   17\n",
       "2   13    9   13   15   16   13   13\n",
       "3    9   15   13   12   13    9    6\n",
       "4    4    7   15    6   13   14    9"
      ]
     },
     "execution_count": 6,
     "metadata": {},
     "output_type": "execute_result"
    }
   ],
   "source": [
    "df.head()"
   ]
  },
  {
   "cell_type": "code",
   "execution_count": 8,
   "id": "7fa92190",
   "metadata": {},
   "outputs": [],
   "source": [
    "df.to_csv('first_five.csv')"
   ]
  },
  {
   "cell_type": "code",
   "execution_count": null,
   "id": "5ad00c4e",
   "metadata": {},
   "outputs": [],
   "source": []
  }
 ],
 "metadata": {
  "kernelspec": {
   "display_name": "Python 3 (ipykernel)",
   "language": "python",
   "name": "python3"
  },
  "language_info": {
   "codemirror_mode": {
    "name": "ipython",
    "version": 3
   },
   "file_extension": ".py",
   "mimetype": "text/x-python",
   "name": "python",
   "nbconvert_exporter": "python",
   "pygments_lexer": "ipython3",
   "version": "3.10.2"
  }
 },
 "nbformat": 4,
 "nbformat_minor": 5
}
